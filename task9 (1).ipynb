{
 "cells": [
  {
   "cell_type": "code",
   "execution_count": 5,
   "metadata": {},
   "outputs": [
    {
     "name": "stdout",
     "output_type": "stream",
     "text": [
      "                         review          cleaned_text\n",
      "0            This app is great!             app great\n",
      "1  I didn’t like the interface.  didnt like interface\n",
      "2                Best app ever!         best app ever\n",
      "3              Could be better.          could better\n"
     ]
    },
    {
     "name": "stderr",
     "output_type": "stream",
     "text": [
      "[nltk_data] Downloading package stopwords to C:\\Users\\SACHIN\n",
      "[nltk_data]     KUMAR\\AppData\\Roaming\\nltk_data...\n",
      "[nltk_data]   Package stopwords is already up-to-date!\n"
     ]
    }
   ],
   "source": [
    "import pandas as pd\n",
    "import nltk\n",
    "from nltk.corpus import stopwords\n",
    "import re\n",
    "\n",
    "# Download stopwords if not already downloaded\n",
    "nltk.download('stopwords')\n",
    "stop_words = set(stopwords.words('english'))\n",
    "\n",
    "# Sample DataFrame creation (replace this with your actual data loading)\n",
    "# data = pd.read_csv(\"C:\\Users\\SACHIN KUMAR\\OneDrive\\Desktop\\data analytics\\9th\\creditcard.csv\")  # Uncomment to load your data\n",
    "data = pd.DataFrame({\n",
    "    'review': [\n",
    "        'This app is great!',\n",
    "        'I didn’t like the interface.',\n",
    "        'Best app ever!',\n",
    "        'Could be better.'\n",
    "    ]\n",
    "})\n",
    "\n",
    "# Function to preprocess text\n",
    "def preprocess_text(text):\n",
    "    # Remove special characters and numbers\n",
    "    text = re.sub(r'[^a-zA-Z\\s]', '', text)\n",
    "    # Convert to lowercase\n",
    "    text = text.lower()\n",
    "    # Remove stopwords\n",
    "    text = ' '.join([word for word in text.split() if word not in stop_words])\n",
    "    return text\n",
    "\n",
    "# Ensure the correct column name is used\n",
    "data['cleaned_text'] = data['review'].apply(preprocess_text)  # Replace 'review' with your column name\n",
    "\n",
    "# Output the DataFrame with cleaned text\n",
    "print(data[['review', 'cleaned_text']])\n"
   ]
  },
  {
   "cell_type": "code",
   "execution_count": 6,
   "metadata": {},
   "outputs": [],
   "source": [
    "class TrieNode:\n",
    "    def __init__(self):\n",
    "        self.children = {}\n",
    "        self.is_end_of_word = False\n",
    "\n",
    "class Trie:\n",
    "    def __init__(self):\n",
    "        self.root = TrieNode()\n",
    "\n",
    "    def insert(self, word):\n",
    "        node = self.root\n",
    "        for char in word:\n",
    "            if char not in node.children:\n",
    "                node.children[char] = TrieNode()\n",
    "            node = node.children[char]\n",
    "        node.is_end_of_word = True\n",
    "\n",
    "    def autocomplete(self, prefix):\n",
    "        node = self.root\n",
    "        for char in prefix:\n",
    "            if char not in node.children:\n",
    "                return []\n",
    "            node = node.children[char]\n",
    "        return self._find_words(node, prefix)\n",
    "\n",
    "    def _find_words(self, node, prefix):\n",
    "        words = []\n",
    "        if node.is_end_of_word:\n",
    "            words.append(prefix)\n",
    "        for char, child in node.children.items():\n",
    "            words += self._find_words(child, prefix + char)\n",
    "        return words\n",
    "\n",
    "# Building the Trie\n",
    "trie = Trie()\n",
    "for text in data['cleaned_text']:\n",
    "    for word in text.split():\n",
    "        trie.insert(word)\n"
   ]
  },
  {
   "cell_type": "code",
   "execution_count": 7,
   "metadata": {},
   "outputs": [
    {
     "name": "stdout",
     "output_type": "stream",
     "text": [
      "[]\n"
     ]
    }
   ],
   "source": [
    "from difflib import get_close_matches\n",
    "\n",
    "def autocorrect(word, word_list, n=1):\n",
    "    return get_close_matches(word, word_list, n=n)\n",
    "\n",
    "# Sample usage\n",
    "all_words = set()\n",
    "for text in data['cleaned_text']:\n",
    "    all_words.update(text.split())\n",
    "\n",
    "misspelled_word = 'exmaple'\n",
    "corrected_word = autocorrect(misspelled_word, all_words)\n",
    "print(corrected_word)  # Outputs suggestions for the misspelled word\n"
   ]
  },
  {
   "cell_type": "code",
   "execution_count": 8,
   "metadata": {},
   "outputs": [
    {
     "name": "stdout",
     "output_type": "stream",
     "text": [
      "Autocomplete Accuracy: 0.0\n"
     ]
    }
   ],
   "source": [
    "from sklearn.metrics import accuracy_score\n",
    "\n",
    "# Example metric calculation\n",
    "def evaluate_autocomplete(trie, test_data):\n",
    "    correct_predictions = 0\n",
    "    for text in test_data:\n",
    "        for word in text.split():\n",
    "            predictions = trie.autocomplete(word)\n",
    "            if word in predictions:\n",
    "                correct_predictions += 1\n",
    "    return correct_predictions / len(test_data)\n",
    "\n",
    "# Evaluate the autocomplete performance\n",
    "test_data = ['example test', 'another test case']\n",
    "accuracy = evaluate_autocomplete(trie, test_data)\n",
    "print(f'Autocomplete Accuracy: {accuracy}')\n"
   ]
  },
  {
   "cell_type": "code",
   "execution_count": 9,
   "metadata": {},
   "outputs": [
    {
     "name": "stdout",
     "output_type": "stream",
     "text": [
      "user_id                      2.000000\n",
      "autocomplete_satisfaction    4.000000\n",
      "autocorrect_satisfaction     4.333333\n",
      "dtype: float64\n"
     ]
    }
   ],
   "source": [
    "# Assuming you have user feedback data in a DataFrame\n",
    "feedback_df = pd.DataFrame({\n",
    "    'user_id': [1, 2, 3],\n",
    "    'autocomplete_satisfaction': [4, 5, 3],\n",
    "    'autocorrect_satisfaction': [5, 4, 4]\n",
    "})\n",
    "\n",
    "# Basic analysis of feedback\n",
    "average_feedback = feedback_df.mean()\n",
    "print(average_feedback)\n"
   ]
  },
  {
   "cell_type": "code",
   "execution_count": 10,
   "metadata": {},
   "outputs": [
    {
     "data": {
      "image/png": "[encoded data removed]",
      "text/plain": [
       "<Figure size 1000x600 with 1 Axes>"
      ]
     },
     "metadata": {},
     "output_type": "display_data"
    }
   ],
   "source": [
    "# Compare accuracies of different models\n",
    "results = {\n",
    "    'Model': ['Autocomplete Model 1', 'Autocomplete Model 2'],\n",
    "    'Accuracy': [accuracy, 0.85]  # Example values\n",
    "}\n",
    "comparison_df = pd.DataFrame(results)\n",
    "\n",
    "# Visualization\n",
    "import matplotlib.pyplot as plt\n",
    "import seaborn as sns\n",
    "\n",
    "plt.figure(figsize=(10, 6))\n",
    "sns.barplot(x='Model', y='Accuracy', data=comparison_df)\n",
    "plt.title('Algorithm Comparison')\n",
    "plt.xlabel('Model')\n",
    "plt.ylabel('Accuracy')\n",
    "plt.show()\n"
   ]
  }
 ],
 "metadata": {
  "kernelspec": {
   "display_name": "Python 3",
   "language": "python",
   "name": "python3"
  },
  "language_info": {
   "codemirror_mode": {
    "name": "ipython",
    "version": 3
   },
   "file_extension": ".py",
   "mimetype": "text/x-python",
   "name": "python",
   "nbconvert_exporter": "python",
   "pygments_lexer": "ipython3",
   "version": "3.13.0"
  }
 },
 "nbformat": 4,
 "nbformat_minor": 2
}
